{
 "cells": [
  {
   "cell_type": "markdown",
   "id": "362cc0e0-cde3-40a6-89f4-f497145d16f3",
   "metadata": {},
   "source": [
    "# Machine Learning in Big Data with Apache Spark\n",
    "\n",
    " 📌 In this section, we will predict Test customer churn using apache spark machine learning algorithms. "
   ]
  },
  {
   "cell_type": "markdown",
   "id": "c66c4b05-4f33-40c0-8dd7-3821a070c2df",
   "metadata": {},
   "source": [
    "# Business Problem\n",
    "\n",
    "📌 It is desirable to develop a machine learning model that can predict customers who will leave the company. Before developing the model, you are expected to perform the necessary data analysis and feature engineering steps."
   ]
  },
  {
   "cell_type": "markdown",
   "id": "c10d6578-2cfa-4435-bdbb-9d4dea86e343",
   "metadata": {},
   "source": [
    "# Dataset Story\n",
    "\n",
    "📌 Test churn data includes information about a fictitious telecom company that provided home phone and Internet services to 900 xxx customers."
   ]
  },
  {
   "cell_type": "markdown",
   "id": "1ff06873-fc2e-4694-9699-87d6fa0cebff",
   "metadata": {},
   "source": [
    "# Create Session in Spark"
   ]
  },
  {
   "cell_type": "code",
   "execution_count": 1,
   "id": "bb3b9b55-7958-43f2-9393-cd7927f7020e",
   "metadata": {},
   "outputs": [
    {
     "name": "stdout",
     "output_type": "stream",
     "text": [
      "Requirement already satisfied: findspark in c:\\users\\tohid\\anaconda3\\lib\\site-packages (2.0.1)\n"
     ]
    }
   ],
   "source": [
    "!pip install findspark\n",
    "import findspark\n",
    "findspark.init(\"C:\\spark\")\n",
    "import pyspark\n",
    "from pyspark.sql import SparkSession\n",
    "from pyspark.conf import SparkConf\n",
    "from pyspark import SparkContext\n",
    "spark = SparkSession.builder \\\n",
    "    .master(\"local\") \\\n",
    "    .appName(\"Churn_Modeling\") \\\n",
    "    .getOrCreate()\n",
    "sc = spark.sparkContext"
   ]
  },
  {
   "cell_type": "code",
   "execution_count": 2,
   "id": "6c7c59ce-84b5-4168-a0e5-5f9c877c5537",
   "metadata": {},
   "outputs": [
    {
     "data": {
      "text/html": [
       "\n",
       "        <div>\n",
       "            <p><b>SparkContext</b></p>\n",
       "\n",
       "            <p><a href=\"http://DESKTOP-9AQ8NK1:4040\">Spark UI</a></p>\n",
       "\n",
       "            <dl>\n",
       "              <dt>Version</dt>\n",
       "                <dd><code>v3.3.1</code></dd>\n",
       "              <dt>Master</dt>\n",
       "                <dd><code>local</code></dd>\n",
       "              <dt>AppName</dt>\n",
       "                <dd><code>Churn_Modeling</code></dd>\n",
       "            </dl>\n",
       "        </div>\n",
       "        "
      ],
      "text/plain": [
       "<SparkContext master=local appName=Churn_Modeling>"
      ]
     },
     "execution_count": 2,
     "metadata": {},
     "output_type": "execute_result"
    }
   ],
   "source": [
    "sc"
   ]
  },
  {
   "cell_type": "markdown",
   "id": "2aa102c1-e4f9-4805-896e-43916021a129",
   "metadata": {},
   "source": [
    "# Import Necesaary Libraries"
   ]
  },
  {
   "cell_type": "code",
   "execution_count": 73,
   "id": "0789bded-8cf7-4cf1-8324-6ef78401cd6e",
   "metadata": {},
   "outputs": [],
   "source": [
    "from pyspark.sql.functions import col, udf\n",
    "from pyspark.sql.types import StringType\n",
    "from pyspark.sql.functions import col,isnan, when, count\n",
    "from pyspark.ml.feature import StringIndexer\n",
    "from pyspark.ml.feature import VectorAssembler\n",
    "from pyspark.ml.classification import GBTClassifier\n",
    "from pyspark.ml.evaluation import BinaryClassificationEvaluator\n",
    "from pyspark.ml.evaluation import MulticlassClassificationEvaluator\n",
    "from pyspark.ml.tuning import ParamGridBuilder, CrossValidator\n",
    "import pandas as pd\n",
    "import seaborn as sns\n",
    "import matplotlib.pyplot as plt"
   ]
  },
  {
   "cell_type": "markdown",
   "id": "37751da5-03f7-44a4-82bd-21ded4badd33",
   "metadata": {
    "tags": []
   },
   "source": [
    "# Import Dataset"
   ]
  },
  {
   "cell_type": "code",
   "execution_count": 4,
   "id": "9bdb3d8b-b89e-47a7-a6bc-196511f0c336",
   "metadata": {},
   "outputs": [
    {
     "data": {
      "text/plain": [
       "DataFrame[_c0: int, Names: string, Age: int, Total_Purchase: double, Account_Manager: int, Years: double, Num_Sites: int, Churn: string]"
      ]
     },
     "execution_count": 4,
     "metadata": {},
     "output_type": "execute_result"
    }
   ],
   "source": [
    "spark_df = spark.read.csv(\"churn.csv\", header=True, inferSchema=True, sep=\",\")\n",
    "spark_df.cache()"
   ]
  },
  {
   "cell_type": "code",
   "execution_count": 5,
   "id": "fa15b2ea-1b5c-4862-9a36-10d70d2863f8",
   "metadata": {},
   "outputs": [
    {
     "name": "stdout",
     "output_type": "stream",
     "text": [
      "+---+----------------+---+--------------+---------------+-----+---------+-----+\n",
      "|_c0|           Names|Age|Total_Purchase|Account_Manager|Years|Num_Sites|Churn|\n",
      "+---+----------------+---+--------------+---------------+-----+---------+-----+\n",
      "|  0|Cameron Williams| 42|       11066.8|              0| 7.22|        8|  Yes|\n",
      "|  1|   Kevin Mueller| 41|      11916.22|              0|  6.5|       11|  Yes|\n",
      "|  2|     Eric Lozano| 38|      12884.75|              0| 6.67|       12|  Yes|\n",
      "|  3|   Phillip White| 42|       8010.76|              0| 6.71|       10|  Yes|\n",
      "|  4|  Cynthia Norton| 37|       9191.58|              0| 5.56|        9|  Yes|\n",
      "+---+----------------+---+--------------+---------------+-----+---------+-----+\n",
      "only showing top 5 rows\n",
      "\n"
     ]
    }
   ],
   "source": [
    "# show dataframe - 5 row\n",
    "spark_df.show(5)"
   ]
  },
  {
   "cell_type": "code",
   "execution_count": 6,
   "id": "131680bd-1fe1-48b0-9b4c-b6c02fee22dc",
   "metadata": {},
   "outputs": [
    {
     "name": "stdout",
     "output_type": "stream",
     "text": [
      "root\n",
      " |-- _c0: integer (nullable = true)\n",
      " |-- Names: string (nullable = true)\n",
      " |-- Age: integer (nullable = true)\n",
      " |-- Total_Purchase: double (nullable = true)\n",
      " |-- Account_Manager: integer (nullable = true)\n",
      " |-- Years: double (nullable = true)\n",
      " |-- Num_Sites: integer (nullable = true)\n",
      " |-- Churn: string (nullable = true)\n",
      "\n"
     ]
    }
   ],
   "source": [
    "# show column name with data types\n",
    "spark_df.printSchema()"
   ]
  },
  {
   "cell_type": "code",
   "execution_count": 7,
   "id": "47588957-9544-4d02-a77d-d8a90f8af5fd",
   "metadata": {},
   "outputs": [
    {
     "data": {
      "text/plain": [
       "[('_c0', 'int'),\n",
       " ('Names', 'string'),\n",
       " ('Age', 'int'),\n",
       " ('Total_Purchase', 'double'),\n",
       " ('Account_Manager', 'int'),\n",
       " ('Years', 'double'),\n",
       " ('Num_Sites', 'int'),\n",
       " ('Churn', 'string')]"
      ]
     },
     "execution_count": 7,
     "metadata": {},
     "output_type": "execute_result"
    }
   ],
   "source": [
    "# show data types features\n",
    "spark_df.dtypes"
   ]
  },
  {
   "cell_type": "code",
   "execution_count": 8,
   "id": "ae596b6c-588c-4941-86cb-90357ca3aa2f",
   "metadata": {},
   "outputs": [
    {
     "name": "stdout",
     "output_type": "stream",
     "text": [
      "+-----+----------------+---+--------------+---------------+-----+---------+-----+\n",
      "|index|           Names|Age|Total_Purchase|Account_Manager|Years|Num_Sites|Churn|\n",
      "+-----+----------------+---+--------------+---------------+-----+---------+-----+\n",
      "|    0|Cameron Williams| 42|       11066.8|              0| 7.22|        8|  Yes|\n",
      "|    1|   Kevin Mueller| 41|      11916.22|              0|  6.5|       11|  Yes|\n",
      "|    2|     Eric Lozano| 38|      12884.75|              0| 6.67|       12|  Yes|\n",
      "+-----+----------------+---+--------------+---------------+-----+---------+-----+\n",
      "only showing top 3 rows\n",
      "\n"
     ]
    }
   ],
   "source": [
    "# rename variable neames\n",
    "spark_df = spark_df.withColumnRenamed(\"_c0\",\"index\")\n",
    "spark_df.show(3)"
   ]
  },
  {
   "cell_type": "code",
   "execution_count": 9,
   "id": "d23c669c-c63d-4221-8f2c-d5386b0b59ea",
   "metadata": {},
   "outputs": [
    {
     "data": {
      "text/plain": [
       "['index',\n",
       " 'names',\n",
       " 'age',\n",
       " 'total_purchase',\n",
       " 'account_manager',\n",
       " 'years',\n",
       " 'num_sites',\n",
       " 'churn']"
      ]
     },
     "execution_count": 9,
     "metadata": {},
     "output_type": "execute_result"
    }
   ],
   "source": [
    "# change column name to lowercase\n",
    "spark_df = spark_df.toDF(*[c.lower() for c in spark_df.columns])\n",
    "spark_df.columns"
   ]
  },
  {
   "cell_type": "code",
   "execution_count": 10,
   "id": "3bedab4f-bc51-4ce7-8f20-ea173e8f90bd",
   "metadata": {},
   "outputs": [
    {
     "name": "stdout",
     "output_type": "stream",
     "text": [
      "+-----+----------------+---+--------------+---------------+-----+---------+-----+\n",
      "|index|           names|age|total_purchase|account_manager|years|num_sites|churn|\n",
      "+-----+----------------+---+--------------+---------------+-----+---------+-----+\n",
      "|    0|Cameron Williams| 42|       11066.8|              0| 7.22|        8|  YES|\n",
      "|    1|   Kevin Mueller| 41|      11916.22|              0|  6.5|       11|  YES|\n",
      "|    2|     Eric Lozano| 38|      12884.75|              0| 6.67|       12|  YES|\n",
      "+-----+----------------+---+--------------+---------------+-----+---------+-----+\n",
      "only showing top 3 rows\n",
      "\n"
     ]
    }
   ],
   "source": [
    "# how to define function in spark and use it\n",
    "def upperCase(y):\n",
    "    return y.upper()\n",
    "\n",
    "upperCaseUDF = udf(lambda x:upperCase(x),StringType()) \n",
    "\n",
    "spark_df.withColumn(\"churn\", upperCaseUDF(col(\"churn\"))).show(3)"
   ]
  },
  {
   "cell_type": "code",
   "execution_count": 11,
   "id": "c5fd8f8b-f3f9-478c-991c-da8cdd13aa6e",
   "metadata": {},
   "outputs": [
    {
     "name": "stdout",
     "output_type": "stream",
     "text": [
      "+-----+----------------+---+--------------+---------------+-----+---------+-----+\n",
      "|index|           names|age|total_purchase|account_manager|years|num_sites|churn|\n",
      "+-----+----------------+---+--------------+---------------+-----+---------+-----+\n",
      "|    0|Cameron Williams| 42|       11066.8|              0| 7.22|        8|    1|\n",
      "|    1|   Kevin Mueller| 41|      11916.22|              0|  6.5|       11|    1|\n",
      "|    2|     Eric Lozano| 38|      12884.75|              0| 6.67|       12|    1|\n",
      "+-----+----------------+---+--------------+---------------+-----+---------+-----+\n",
      "only showing top 3 rows\n",
      "\n"
     ]
    }
   ],
   "source": [
    "# define label encoder function\n",
    "def labelEncoder(y):\n",
    "    if y==\"Yes\":\n",
    "        y=1\n",
    "    else:\n",
    "        y=0\n",
    "    return y\n",
    "\n",
    "from pyspark.sql.functions import col, udf\n",
    "from pyspark.sql.types import StringType\n",
    "labelEncoderUDF = udf(lambda x:labelEncoder(x),StringType()) \n",
    "\n",
    "spark_df = spark_df.withColumn(\"churn\", labelEncoderUDF(col(\"churn\")))\n",
    "spark_df.show(3)"
   ]
  },
  {
   "cell_type": "code",
   "execution_count": 12,
   "id": "fecaf83c-2347-4055-a186-133763d87956",
   "metadata": {},
   "outputs": [],
   "source": [
    "# change data type ==> string to int using withColumn function\n",
    "spark_df = spark_df.withColumn(\"churn\",spark_df[\"churn\"].cast(\"int\"))\n",
    "spark_df = spark_df.withColumn(\"index\",spark_df[\"index\"].cast(\"string\"))"
   ]
  },
  {
   "cell_type": "markdown",
   "id": "413d2477-9bda-4b08-8646-adb7a5e36a4f",
   "metadata": {},
   "source": [
    "# General Information About to the Dataset"
   ]
  },
  {
   "cell_type": "code",
   "execution_count": 13,
   "id": "e904a64f-d997-4163-ad7b-99037ea5ba1f",
   "metadata": {},
   "outputs": [
    {
     "name": "stdout",
     "output_type": "stream",
     "text": [
      "(900, 8)\n"
     ]
    }
   ],
   "source": [
    "# shape of dataset\n",
    "print((spark_df.count(), len(spark_df.columns)))"
   ]
  },
  {
   "cell_type": "code",
   "execution_count": 14,
   "id": "cef412da-51c7-4b12-9094-f2795a026022",
   "metadata": {},
   "outputs": [
    {
     "name": "stdout",
     "output_type": "stream",
     "text": [
      "+-------+-----------------+-----------------+------------------+-----------------+------------------+-------------------+\n",
      "|summary|              age|   total_purchase|   account_manager|            years|         num_sites|              churn|\n",
      "+-------+-----------------+-----------------+------------------+-----------------+------------------+-------------------+\n",
      "|  count|              900|              900|               900|              900|               900|                900|\n",
      "|   mean|41.81666666666667|10062.82403333334|0.4811111111111111| 5.27315555555555| 8.587777777777777|0.16666666666666666|\n",
      "| stddev|6.127560416916251|2408.644531858096|0.4999208935073339|1.274449013194616|1.7648355920350969| 0.3728852122772358|\n",
      "|    min|               22|            100.0|                 0|              1.0|                 3|                  0|\n",
      "|    max|               65|         18026.01|                 1|             9.15|                14|                  1|\n",
      "+-------+-----------------+-----------------+------------------+-----------------+------------------+-------------------+\n",
      "\n"
     ]
    }
   ],
   "source": [
    "# describe dataset\n",
    "spark_df.select([col[0] for col in spark_df.dtypes if col[1] != 'string']).describe().show()"
   ]
  },
  {
   "cell_type": "code",
   "execution_count": 15,
   "id": "51b97564-f5b8-45fe-b347-077cc9cf6a80",
   "metadata": {},
   "outputs": [
    {
     "data": {
      "text/html": [
       "<div>\n",
       "<style scoped>\n",
       "    .dataframe tbody tr th:only-of-type {\n",
       "        vertical-align: middle;\n",
       "    }\n",
       "\n",
       "    .dataframe tbody tr th {\n",
       "        vertical-align: top;\n",
       "    }\n",
       "\n",
       "    .dataframe thead th {\n",
       "        text-align: right;\n",
       "    }\n",
       "</style>\n",
       "<table border=\"1\" class=\"dataframe\">\n",
       "  <thead>\n",
       "    <tr style=\"text-align: right;\">\n",
       "      <th></th>\n",
       "      <th>0</th>\n",
       "      <th>1</th>\n",
       "      <th>2</th>\n",
       "      <th>3</th>\n",
       "      <th>4</th>\n",
       "    </tr>\n",
       "  </thead>\n",
       "  <tbody>\n",
       "    <tr>\n",
       "      <th>summary</th>\n",
       "      <td>count</td>\n",
       "      <td>mean</td>\n",
       "      <td>stddev</td>\n",
       "      <td>min</td>\n",
       "      <td>max</td>\n",
       "    </tr>\n",
       "    <tr>\n",
       "      <th>age</th>\n",
       "      <td>900</td>\n",
       "      <td>41.81666666666667</td>\n",
       "      <td>6.127560416916251</td>\n",
       "      <td>22</td>\n",
       "      <td>65</td>\n",
       "    </tr>\n",
       "    <tr>\n",
       "      <th>total_purchase</th>\n",
       "      <td>900</td>\n",
       "      <td>10062.82403333334</td>\n",
       "      <td>2408.644531858096</td>\n",
       "      <td>100.0</td>\n",
       "      <td>18026.01</td>\n",
       "    </tr>\n",
       "    <tr>\n",
       "      <th>account_manager</th>\n",
       "      <td>900</td>\n",
       "      <td>0.4811111111111111</td>\n",
       "      <td>0.4999208935073339</td>\n",
       "      <td>0</td>\n",
       "      <td>1</td>\n",
       "    </tr>\n",
       "    <tr>\n",
       "      <th>years</th>\n",
       "      <td>900</td>\n",
       "      <td>5.27315555555555</td>\n",
       "      <td>1.274449013194616</td>\n",
       "      <td>1.0</td>\n",
       "      <td>9.15</td>\n",
       "    </tr>\n",
       "    <tr>\n",
       "      <th>num_sites</th>\n",
       "      <td>900</td>\n",
       "      <td>8.587777777777777</td>\n",
       "      <td>1.7648355920350969</td>\n",
       "      <td>3</td>\n",
       "      <td>14</td>\n",
       "    </tr>\n",
       "    <tr>\n",
       "      <th>churn</th>\n",
       "      <td>900</td>\n",
       "      <td>0.16666666666666666</td>\n",
       "      <td>0.3728852122772358</td>\n",
       "      <td>0</td>\n",
       "      <td>1</td>\n",
       "    </tr>\n",
       "  </tbody>\n",
       "</table>\n",
       "</div>"
      ],
      "text/plain": [
       "                     0                    1                   2      3  \\\n",
       "summary          count                 mean              stddev    min   \n",
       "age                900    41.81666666666667   6.127560416916251     22   \n",
       "total_purchase     900    10062.82403333334   2408.644531858096  100.0   \n",
       "account_manager    900   0.4811111111111111  0.4999208935073339      0   \n",
       "years              900     5.27315555555555   1.274449013194616    1.0   \n",
       "num_sites          900    8.587777777777777  1.7648355920350969      3   \n",
       "churn              900  0.16666666666666666  0.3728852122772358      0   \n",
       "\n",
       "                        4  \n",
       "summary               max  \n",
       "age                    65  \n",
       "total_purchase   18026.01  \n",
       "account_manager         1  \n",
       "years                9.15  \n",
       "num_sites              14  \n",
       "churn                   1  "
      ]
     },
     "execution_count": 15,
     "metadata": {},
     "output_type": "execute_result"
    }
   ],
   "source": [
    "# describe pandas\n",
    "spark_df.select([col[0] for col in spark_df.dtypes if col[1] != 'string']).describe().toPandas().transpose()"
   ]
  },
  {
   "cell_type": "code",
   "execution_count": 16,
   "id": "cf51ba17-df73-4471-873e-9072505d516b",
   "metadata": {},
   "outputs": [
    {
     "name": "stdout",
     "output_type": "stream",
     "text": [
      "+-----+-----+---+--------------+---------------+-----+---------+-----+\n",
      "|index|names|age|total_purchase|account_manager|years|num_sites|churn|\n",
      "+-----+-----+---+--------------+---------------+-----+---------+-----+\n",
      "|    0|    0|  0|             0|              0|    0|        0|    0|\n",
      "+-----+-----+---+--------------+---------------+-----+---------+-----+\n",
      "\n"
     ]
    }
   ],
   "source": [
    "# Null data\n",
    "spark_df.select([count(when(isnan(c) | col(c).isNull(), c)).alias(c) for c in spark_df.columns]).show()"
   ]
  },
  {
   "cell_type": "code",
   "execution_count": 17,
   "id": "6a32107c-d22e-4fc2-8939-422559dea584",
   "metadata": {},
   "outputs": [
    {
     "data": {
      "text/plain": [
       "900"
      ]
     },
     "execution_count": 17,
     "metadata": {},
     "output_type": "execute_result"
    }
   ],
   "source": [
    "# distinct row\n",
    "spark_df.distinct().count()"
   ]
  },
  {
   "cell_type": "code",
   "execution_count": 18,
   "id": "1ce89965-e35e-4bd0-98a2-6790b98eb3e9",
   "metadata": {},
   "outputs": [
    {
     "data": {
      "text/plain": [
       "899"
      ]
     },
     "execution_count": 18,
     "metadata": {},
     "output_type": "execute_result"
    }
   ],
   "source": [
    "# distinct names\n",
    "spark_df.select(\"names\").distinct().count()"
   ]
  },
  {
   "cell_type": "code",
   "execution_count": 19,
   "id": "5d3d964b-196e-43c4-8f8c-4057ab516893",
   "metadata": {},
   "outputs": [
    {
     "name": "stdout",
     "output_type": "stream",
     "text": [
      "+-------------+-----+\n",
      "|        names|count|\n",
      "+-------------+-----+\n",
      "|Jennifer Wood|    2|\n",
      "| Patrick Bell|    1|\n",
      "|Chelsea Marsh|    1|\n",
      "+-------------+-----+\n",
      "only showing top 3 rows\n",
      "\n"
     ]
    }
   ],
   "source": [
    "# groupby\n",
    "spark_df.groupby(\"names\").count().sort(\"count\", ascending=False).show(3)"
   ]
  },
  {
   "cell_type": "code",
   "execution_count": 20,
   "id": "f4ddb44b-d7d0-4c1a-b91e-d321d72dd53b",
   "metadata": {},
   "outputs": [
    {
     "name": "stdout",
     "output_type": "stream",
     "text": [
      "+-----+-------------+---+--------------+---------------+-----+---------+-----+\n",
      "|index|        names|age|total_purchase|account_manager|years|num_sites|churn|\n",
      "+-----+-------------+---+--------------+---------------+-----+---------+-----+\n",
      "|   22|Jennifer Wood| 35|       9381.12|              1| 6.78|       11|    1|\n",
      "|  439|Jennifer Wood| 48|      11585.16|              0| 4.61|        9|    0|\n",
      "+-----+-------------+---+--------------+---------------+-----+---------+-----+\n",
      "\n"
     ]
    }
   ],
   "source": [
    "# filter\n",
    "spark_df.filter(spark_df.names==\"Jennifer Wood\").show()"
   ]
  },
  {
   "cell_type": "code",
   "execution_count": 21,
   "id": "56278c96-6fee-47c5-bd69-26283940f99e",
   "metadata": {},
   "outputs": [
    {
     "name": "stdout",
     "output_type": "stream",
     "text": [
      "+----------------+-----+\n",
      "|           names|count|\n",
      "+----------------+-----+\n",
      "|    Patrick Bell|    1|\n",
      "|Patrick Robinson|    1|\n",
      "|   Chelsea Marsh|    1|\n",
      "+----------------+-----+\n",
      "only showing top 3 rows\n",
      "\n"
     ]
    }
   ],
   "source": [
    "# drop duplicates\n",
    "spark_df.select(\"names\").dropDuplicates().groupby(\"names\").count().sort(\"count\", ascending=False).show(3)"
   ]
  },
  {
   "cell_type": "code",
   "execution_count": 22,
   "id": "3baf3cdd-9c09-4d51-b82a-e0289366cc1c",
   "metadata": {},
   "outputs": [
    {
     "name": "stdout",
     "output_type": "stream",
     "text": [
      "+-----+-------------+---+--------------+---------------+-----+---------+-----+\n",
      "|index|        names|age|total_purchase|account_manager|years|num_sites|churn|\n",
      "+-----+-------------+---+--------------+---------------+-----+---------+-----+\n",
      "|  439|Jennifer Wood| 48|      11585.16|              0| 4.61|        9|    0|\n",
      "+-----+-------------+---+--------------+---------------+-----+---------+-----+\n",
      "\n"
     ]
    }
   ],
   "source": [
    "# where\n",
    "spark_df.where(spark_df.index==439).show()"
   ]
  },
  {
   "cell_type": "code",
   "execution_count": 23,
   "id": "ba2d1a3e-32e7-4f81-be7c-a36af97256c7",
   "metadata": {},
   "outputs": [
    {
     "data": {
      "text/plain": [
       "'Jennifer Wood'"
      ]
     },
     "execution_count": 23,
     "metadata": {},
     "output_type": "execute_result"
    }
   ],
   "source": [
    "# collect\n",
    "spark_df.where(spark_df.index==439).collect()[0][\"names\"]"
   ]
  },
  {
   "cell_type": "markdown",
   "id": "3d1300b5-ac40-4710-b90b-b315bb5e3f12",
   "metadata": {},
   "source": [
    "# Exploratory Data Analysis(EDA)"
   ]
  },
  {
   "cell_type": "code",
   "execution_count": 24,
   "id": "907c30a2-943e-4af5-ae10-a92a66815571",
   "metadata": {},
   "outputs": [],
   "source": [
    "def grab_col_names(dataframe, cat_th=10, car_th=20):\n",
    "    cat_cols = spark_df.select([col for col in spark_df.columns if spark_df.select(col).dtypes[0][1] == \"string\"])\n",
    "    num_but_cat = spark_df.select([col for col in spark_df.columns if spark_df.select(col).distinct().count() < cat_th and spark_df.select(col).dtypes[0][1] in [\"int\",\"double\"]])\n",
    "    cat_but_car = spark_df.select([col for col in spark_df.columns if spark_df.select(col).distinct().count() > car_th and spark_df.select(col).dtypes[0][1] == \"string\"])\n",
    "    cat_cols = cat_cols.unionByName(num_but_cat, allowMissingColumns=True)\n",
    "    cat_cols = cat_cols.select([col for col in cat_cols.columns if col not in cat_but_car.columns])\n",
    "    num_cols = spark_df.select([col for col in spark_df.columns if spark_df.select(col).dtypes[0][1] in [\"int\",\"double\"]])\n",
    "    num_cols = num_cols.select([col for col in num_cols.columns if col not in cat_cols.columns])\n",
    "    \n",
    "    return cat_cols, num_cols, cat_but_car"
   ]
  },
  {
   "cell_type": "code",
   "execution_count": 25,
   "id": "cb4be78b-8f48-4511-abff-654aac519cca",
   "metadata": {},
   "outputs": [
    {
     "name": "stdout",
     "output_type": "stream",
     "text": [
      "Observations: 900\n",
      "Variables: 8\n",
      "Cat_cols: 2\n",
      "Num_cols: 4\n",
      "Cat_but_car: 2\n"
     ]
    }
   ],
   "source": [
    "cat_cols, num_cols, cat_but_car = grab_col_names(spark_df)\n",
    "\n",
    "#Print Categorical and Numerical Variables\n",
    "print(f\"Observations: {spark_df.count()}\")\n",
    "print(f\"Variables: {len(spark_df.columns)}\")\n",
    "print(f\"Cat_cols: {len(cat_cols.columns)}\")\n",
    "print(f\"Num_cols: {len(num_cols.columns)}\")\n",
    "print(f\"Cat_but_car: {len(cat_but_car.columns)}\")"
   ]
  },
  {
   "cell_type": "code",
   "execution_count": 26,
   "id": "a1e7b678-b4d7-4045-a057-8f0b7efea871",
   "metadata": {},
   "outputs": [
    {
     "name": "stdout",
     "output_type": "stream",
     "text": [
      "+-------+-----------------+-----------------+-----------------+------------------+\n",
      "|summary|              age|   total_purchase|            years|         num_sites|\n",
      "+-------+-----------------+-----------------+-----------------+------------------+\n",
      "|  count|              900|              900|              900|               900|\n",
      "|   mean|41.81666666666667|10062.82403333334| 5.27315555555555| 8.587777777777777|\n",
      "| stddev|6.127560416916251|2408.644531858096|1.274449013194616|1.7648355920350969|\n",
      "|    min|               22|            100.0|              1.0|                 3|\n",
      "|    max|               65|         18026.01|             9.15|                14|\n",
      "+-------+-----------------+-----------------+-----------------+------------------+\n",
      "\n"
     ]
    }
   ],
   "source": [
    "# selection of all numeric variables and summary statistics\n",
    "spark_df.select(num_cols.columns).describe().show()"
   ]
  },
  {
   "cell_type": "code",
   "execution_count": 27,
   "id": "5b438d88-9c2f-486b-8256-8cc0bc6720e2",
   "metadata": {},
   "outputs": [
    {
     "name": "stdout",
     "output_type": "stream",
     "text": [
      "+-----+-----------------+\n",
      "|churn|         avg(age)|\n",
      "+-----+-----------------+\n",
      "|    1|42.99333333333333|\n",
      "|    0|41.58133333333333|\n",
      "+-----+-----------------+\n",
      "\n",
      "+-----+-------------------+\n",
      "|churn|avg(total_purchase)|\n",
      "+-----+-------------------+\n",
      "|    1| 10192.179933333337|\n",
      "|    0| 10036.952853333332|\n",
      "+-----+-------------------+\n",
      "\n",
      "+-----+------------------+\n",
      "|churn|        avg(years)|\n",
      "+-----+------------------+\n",
      "|    1|5.8835999999999995|\n",
      "|    0|5.1510666666666625|\n",
      "+-----+------------------+\n",
      "\n",
      "+-----+-----------------+\n",
      "|churn|   avg(num_sites)|\n",
      "+-----+-----------------+\n",
      "|    1|            10.66|\n",
      "|    0|8.173333333333334|\n",
      "+-----+-----------------+\n",
      "\n"
     ]
    }
   ],
   "source": [
    "# mean of numeric variables relative to target variable\n",
    "for col in num_cols.columns:\n",
    "    spark_df.groupby(\"churn\").agg({col: \"mean\"}).show()"
   ]
  },
  {
   "cell_type": "code",
   "execution_count": 28,
   "id": "bf06e3f6-4053-40f2-a1e9-95735f55a0db",
   "metadata": {},
   "outputs": [
    {
     "data": {
      "image/png": "[encoded data removed]",
      "text/plain": [
       "<Figure size 762.375x720 with 20 Axes>"
      ]
     },
     "metadata": {
      "needs_background": "light"
     },
     "output_type": "display_data"
    }
   ],
   "source": [
    "sns.pairplot(spark_df.toPandas(), vars=[\"age\",\"total_purchase\",\"years\",\"num_sites\"], hue=\"churn\", kind=\"reg\");"
   ]
  },
  {
   "cell_type": "code",
   "execution_count": 29,
   "id": "1b93fc3e-8cb0-4794-b08f-3ce3352acaf3",
   "metadata": {},
   "outputs": [
    {
     "data": {
      "image/png": "[encoded data removed]",
      "text/plain": [
       "<Figure size 432x288 with 1 Axes>"
      ]
     },
     "metadata": {
      "needs_background": "light"
     },
     "output_type": "display_data"
    },
    {
     "data": {
      "image/png": "[encoded data removed]",
      "text/plain": [
       "<Figure size 432x288 with 1 Axes>"
      ]
     },
     "metadata": {
      "needs_background": "light"
     },
     "output_type": "display_data"
    },
    {
     "data": {
      "image/png": "[encoded data removed]",
      "text/plain": [
       "<Figure size 432x288 with 1 Axes>"
      ]
     },
     "metadata": {
      "needs_background": "light"
     },
     "output_type": "display_data"
    },
    {
     "data": {
      "image/png": "[encoded data removed]",
      "text/plain": [
       "<Figure size 432x288 with 1 Axes>"
      ]
     },
     "metadata": {
      "needs_background": "light"
     },
     "output_type": "display_data"
    }
   ],
   "source": [
    "# numerical summary\n",
    "for col in num_cols.columns:\n",
    "    spark_df.select(col).toPandas().hist(bins=20)\n",
    "    plt.xlabel(col)\n",
    "    plt.title(col)\n",
    "    plt.show(block=True)"
   ]
  },
  {
   "cell_type": "code",
   "execution_count": 30,
   "id": "d5833faf-c5b1-45bf-bdbe-3af02240b585",
   "metadata": {},
   "outputs": [
    {
     "data": {
      "image/png": "[encoded data removed]",
      "text/plain": [
       "<Figure size 432x288 with 1 Axes>"
      ]
     },
     "metadata": {
      "needs_background": "light"
     },
     "output_type": "display_data"
    },
    {
     "data": {
      "image/png": "[encoded data removed]",
      "text/plain": [
       "<Figure size 432x288 with 1 Axes>"
      ]
     },
     "metadata": {
      "needs_background": "light"
     },
     "output_type": "display_data"
    }
   ],
   "source": [
    "# categorical summary\n",
    "for col in cat_cols.columns:\n",
    "    sns.countplot(x=col,data=spark_df.toPandas())\n",
    "    plt.show(block=True)"
   ]
  },
  {
   "cell_type": "markdown",
   "id": "625e195e-a039-44d1-93af-8547bac0e621",
   "metadata": {},
   "source": [
    "# Missing Value Analysis"
   ]
  },
  {
   "cell_type": "code",
   "execution_count": 31,
   "id": "77efcdbb-81db-437a-86cd-4c654968e9bb",
   "metadata": {},
   "outputs": [
    {
     "name": "stdout",
     "output_type": "stream",
     "text": [
      "+-----+-----+---+--------------+---------------+-----+---------+-----+\n",
      "|index|names|age|total_purchase|account_manager|years|num_sites|churn|\n",
      "+-----+-----+---+--------------+---------------+-----+---------+-----+\n",
      "|    0|    0|  0|             0|              0|    0|        0|    0|\n",
      "+-----+-----+---+--------------+---------------+-----+---------+-----+\n",
      "\n"
     ]
    }
   ],
   "source": [
    "# Null data\n",
    "spark_df.select([count(when(isnan(c), c)).alias(c) for c in spark_df.columns]).show()"
   ]
  },
  {
   "cell_type": "markdown",
   "id": "068072bc-9b16-4eba-aa00-6401354bb5a0",
   "metadata": {},
   "source": [
    "# Creating Spark DataFrame Structure\n",
    "\n",
    "📌 Creating DataFrame Structure for Machine Learning Algorithms in Spark"
   ]
  },
  {
   "cell_type": "code",
   "execution_count": 32,
   "id": "507217ad-2dcb-4dad-8abb-3437533551ad",
   "metadata": {},
   "outputs": [],
   "source": [
    "# independent variable\n",
    "indexed = StringIndexer(inputCol=\"churn\", outputCol=\"label\").fit(spark_df).transform(spark_df)\n",
    "spark_df = indexed.withColumn(\"label\", indexed[\"label\"].cast(\"Integer\"))"
   ]
  },
  {
   "cell_type": "code",
   "execution_count": 33,
   "id": "13237ba3-c7d1-4127-9687-9ce301d65586",
   "metadata": {},
   "outputs": [
    {
     "data": {
      "text/plain": [
       "[('index', 'string'),\n",
       " ('names', 'string'),\n",
       " ('age', 'int'),\n",
       " ('total_purchase', 'double'),\n",
       " ('account_manager', 'int'),\n",
       " ('years', 'double'),\n",
       " ('num_sites', 'int'),\n",
       " ('churn', 'int'),\n",
       " ('label', 'int')]"
      ]
     },
     "execution_count": 33,
     "metadata": {},
     "output_type": "execute_result"
    }
   ],
   "source": [
    "spark_df.dtypes"
   ]
  },
  {
   "cell_type": "code",
   "execution_count": 39,
   "id": "7e5fa251-1b90-423d-ba73-78178ee9fd0f",
   "metadata": {},
   "outputs": [],
   "source": [
    "# dependent variable\n",
    "dependent_variables = spark_df.select([col for col in spark_df.columns if col not in [\"index\",\"names\",\"churn\",\"label\"]])\n",
    "va_df = VectorAssembler(inputCols=dependent_variables.columns, outputCol=\"features\").transform(spark_df)"
   ]
  },
  {
   "cell_type": "code",
   "execution_count": 44,
   "id": "1dd5d28f-4d8e-452b-bc4a-476de46aaa92",
   "metadata": {},
   "outputs": [
    {
     "data": {
      "text/plain": [
       "[('index', 'string'),\n",
       " ('names', 'string'),\n",
       " ('age', 'int'),\n",
       " ('total_purchase', 'double'),\n",
       " ('account_manager', 'int'),\n",
       " ('years', 'double'),\n",
       " ('num_sites', 'int'),\n",
       " ('churn', 'int'),\n",
       " ('label', 'int'),\n",
       " ('features', 'vector')]"
      ]
     },
     "execution_count": 44,
     "metadata": {},
     "output_type": "execute_result"
    }
   ],
   "source": [
    "va_df.dtypes"
   ]
  },
  {
   "cell_type": "code",
   "execution_count": 46,
   "id": "6c62c9d8-b1d6-4dc5-b7a2-cb14d4f5966e",
   "metadata": {},
   "outputs": [
    {
     "name": "stdout",
     "output_type": "stream",
     "text": [
      "+--------------------+-----+\n",
      "|            features|label|\n",
      "+--------------------+-----+\n",
      "|[42.0,11066.8,0.0...|    1|\n",
      "|[41.0,11916.22,0....|    1|\n",
      "|[38.0,12884.75,0....|    1|\n",
      "|[42.0,8010.76,0.0...|    1|\n",
      "|[37.0,9191.58,0.0...|    1|\n",
      "|[48.0,10356.02,0....|    1|\n",
      "|[44.0,11331.58,1....|    1|\n",
      "|[32.0,9885.12,1.0...|    1|\n",
      "|[43.0,14062.6,1.0...|    1|\n",
      "|[40.0,8066.94,1.0...|    1|\n",
      "+--------------------+-----+\n",
      "only showing top 10 rows\n",
      "\n"
     ]
    }
   ],
   "source": [
    "final_df = va_df.select([\"features\",\"label\"])\n",
    "final_df.show(10)"
   ]
  },
  {
   "cell_type": "code",
   "execution_count": 47,
   "id": "2746ef8d-c5a3-4a83-add1-5abe06871ec1",
   "metadata": {},
   "outputs": [],
   "source": [
    "# Train-Test Split\n",
    "splits = final_df.randomSplit([0.7, 0.3])\n",
    "train_df = splits[0]\n",
    "test_df = splits[1]"
   ]
  },
  {
   "cell_type": "markdown",
   "id": "e50bc7a0-e4d9-49e1-a0a2-8a2aa9514b2f",
   "metadata": {},
   "source": [
    "# Create Model\n",
    "\n",
    "📌 Customer Churn Modeling with Gradient Boosting Machine(GBM) in Spark"
   ]
  },
  {
   "cell_type": "code",
   "execution_count": 54,
   "id": "d5ab3df9-8109-431f-8aa3-f99e440bb498",
   "metadata": {},
   "outputs": [],
   "source": [
    "gbm = GBTClassifier(maxIter=10, featuresCol=\"features\", labelCol=\"label\")\n",
    "gbm_model = gbm.fit(train_df)"
   ]
  },
  {
   "cell_type": "code",
   "execution_count": 55,
   "id": "6d66072a-3477-425d-9551-f0bc9a9cdc35",
   "metadata": {},
   "outputs": [
    {
     "name": "stdout",
     "output_type": "stream",
     "text": [
      "+--------------------+-----+--------------------+--------------------+----------+\n",
      "|            features|label|       rawPrediction|         probability|prediction|\n",
      "+--------------------+-----+--------------------+--------------------+----------+\n",
      "|[25.0,9672.03,0.0...|    0|[1.33329365744251...|[0.93502601022891...|       0.0|\n",
      "|[28.0,8670.98,0.0...|    0|[1.31858747141050...|[0.93321611146053...|       0.0|\n",
      "|[28.0,11204.23,0....|    0|[1.33554461206683...|[0.93529897683538...|       0.0|\n",
      "|[29.0,8688.17,1.0...|    1|[0.85115442103402...|[0.84583604244687...|       0.0|\n",
      "|[29.0,9378.24,0.0...|    0|[1.31858747141050...|[0.93321611146053...|       0.0|\n",
      "+--------------------+-----+--------------------+--------------------+----------+\n",
      "only showing top 5 rows\n",
      "\n"
     ]
    }
   ],
   "source": [
    "y_pred = gbm_model.transform(test_df)\n",
    "y_pred.show(5)"
   ]
  },
  {
   "cell_type": "code",
   "execution_count": 59,
   "id": "08c77c30-beaf-4751-a9d1-b2a26af0d4e4",
   "metadata": {},
   "outputs": [
    {
     "name": "stdout",
     "output_type": "stream",
     "text": [
      "Accuracy:  0.8708487084870848\n"
     ]
    }
   ],
   "source": [
    "acc = y_pred.select(\"label\", \"prediction\")\n",
    "print(\"Accuracy: \" , acc.filter(acc.label == acc.prediction).count() / acc.count())"
   ]
  },
  {
   "cell_type": "code",
   "execution_count": 64,
   "id": "397d8528-453e-41d1-97b4-a160ffcc9c9a",
   "metadata": {},
   "outputs": [
    {
     "name": "stdout",
     "output_type": "stream",
     "text": [
      "accuracy: 0.870849, precision: 0.895833, recall: 0.955556, f1: 0.860352, roc_auc: 0.706039\n"
     ]
    }
   ],
   "source": [
    "evaluator = BinaryClassificationEvaluator(labelCol=\"label\", rawPredictionCol=\"prediction\", metricName='areaUnderROC')\n",
    "evaluatorMulti = MulticlassClassificationEvaluator(labelCol=\"label\", predictionCol=\"prediction\")\n",
    "acc = evaluatorMulti.evaluate(y_pred, {evaluatorMulti.metricName: \"accuracy\"})\n",
    "precision = evaluatorMulti.evaluate(y_pred, {evaluatorMulti.metricName: \"precisionByLabel\"})\n",
    "recall = evaluatorMulti.evaluate(y_pred, {evaluatorMulti.metricName: \"recallByLabel\"})\n",
    "f1 = evaluatorMulti.evaluate(y_pred, {evaluatorMulti.metricName: \"f1\"})\n",
    "roc_auc = evaluator.evaluate(y_pred)\n",
    "print(\"accuracy: %f, precision: %f, recall: %f, f1: %f, roc_auc: %f\" % (acc, precision, recall, f1, roc_auc))"
   ]
  },
  {
   "cell_type": "markdown",
   "id": "28270aa7-59ea-413b-846e-a01965c18690",
   "metadata": {},
   "source": [
    "# Model Tuning"
   ]
  },
  {
   "cell_type": "code",
   "execution_count": 65,
   "id": "fceb70de-ecac-4a40-a7a5-08d0593c82a0",
   "metadata": {},
   "outputs": [],
   "source": [
    "evaluator = BinaryClassificationEvaluator()\n",
    "paramGrid = (ParamGridBuilder()\n",
    "             .addGrid(gbm.maxDepth, [2, 4, 6])\n",
    "             .addGrid(gbm.maxBins, [20, 30])\n",
    "             .addGrid(gbm.maxIter, [10, 20])\n",
    "             .build())\n",
    "cv = CrossValidator(estimator=gbm,\n",
    "                    estimatorParamMaps=paramGrid,\n",
    "                    evaluator=evaluator,\n",
    "                    numFolds=10)"
   ]
  },
  {
   "cell_type": "code",
   "execution_count": 66,
   "id": "d044cd63-91c8-4af3-8e09-8c94929bfaf3",
   "metadata": {},
   "outputs": [],
   "source": [
    "cv_model = cv.fit(train_df)"
   ]
  },
  {
   "cell_type": "code",
   "execution_count": 68,
   "id": "b7df0289-37fc-4811-9cb5-a89f00041c24",
   "metadata": {},
   "outputs": [
    {
     "name": "stdout",
     "output_type": "stream",
     "text": [
      "+--------------------+-----+--------------------+--------------------+----------+\n",
      "|            features|label|       rawPrediction|         probability|prediction|\n",
      "+--------------------+-----+--------------------+--------------------+----------+\n",
      "|[25.0,9672.03,0.0...|    0|[1.46788378712118...|[0.94958649731500...|       0.0|\n",
      "|[28.0,8670.98,0.0...|    0|[1.46788378712118...|[0.94958649731500...|       0.0|\n",
      "|[28.0,11204.23,0....|    0|[0.83828727412141...|[0.84245041187600...|       0.0|\n",
      "|[29.0,8688.17,1.0...|    1|[1.01911109100682...|[0.88475211526343...|       0.0|\n",
      "|[29.0,9378.24,0.0...|    0|[1.46788378712118...|[0.94958649731500...|       0.0|\n",
      "+--------------------+-----+--------------------+--------------------+----------+\n",
      "only showing top 5 rows\n",
      "\n"
     ]
    }
   ],
   "source": [
    "y_pred = cv_model.transform(test_df)\n",
    "y_pred.show(5)"
   ]
  },
  {
   "cell_type": "code",
   "execution_count": 69,
   "id": "a975bbb5-e267-4fc0-bcd3-50f00a464556",
   "metadata": {},
   "outputs": [
    {
     "name": "stdout",
     "output_type": "stream",
     "text": [
      "Accuracy:  0.8966789667896679\n"
     ]
    }
   ],
   "source": [
    "acc = y_pred.select(\"label\", \"prediction\")\n",
    "print(\"Accuracy: \" , acc.filter(acc.label == acc.prediction).count() / acc.count())"
   ]
  },
  {
   "cell_type": "code",
   "execution_count": 71,
   "id": "a510299b-e23f-4136-b6cd-759135de8182",
   "metadata": {},
   "outputs": [
    {
     "name": "stdout",
     "output_type": "stream",
     "text": [
      "accuracy: 0.896679, precision: 0.905350, recall: 0.977778, f1: 0.886100, roc_auc: 0.738889\n"
     ]
    }
   ],
   "source": [
    "evaluator = BinaryClassificationEvaluator(labelCol=\"label\", rawPredictionCol=\"prediction\", metricName='areaUnderROC')\n",
    "evaluatorMulti = MulticlassClassificationEvaluator(labelCol=\"label\", predictionCol=\"prediction\")\n",
    "acc = evaluatorMulti.evaluate(y_pred, {evaluatorMulti.metricName: \"accuracy\"})\n",
    "precision = evaluatorMulti.evaluate(y_pred, {evaluatorMulti.metricName: \"precisionByLabel\"})\n",
    "recall = evaluatorMulti.evaluate(y_pred, {evaluatorMulti.metricName: \"recallByLabel\"})\n",
    "f1 = evaluatorMulti.evaluate(y_pred, {evaluatorMulti.metricName: \"f1\"})\n",
    "roc_auc = evaluator.evaluate(y_pred)\n",
    "print(\"accuracy: %f, precision: %f, recall: %f, f1: %f, roc_auc: %f\" % (acc, precision, recall, f1, roc_auc))"
   ]
  },
  {
   "cell_type": "markdown",
   "id": "d2d18222-b894-44e2-b1c9-1a1c3100a330",
   "metadata": {},
   "source": [
    "# Predictions - New Customers"
   ]
  },
  {
   "cell_type": "code",
   "execution_count": 81,
   "id": "cd494e89-0b26-40e6-9c9c-e953a61b5808",
   "metadata": {},
   "outputs": [
    {
     "data": {
      "text/plain": [
       "Index(['names', 'age', 'total_purchase', 'account_manager', 'years',\n",
       "       'num_sites'],\n",
       "      dtype='object')"
      ]
     },
     "execution_count": 81,
     "metadata": {},
     "output_type": "execute_result"
    }
   ],
   "source": [
    "names = pd.Series([\"Ali\",\"Ahmet\",\"Muhammed\",\"Zeynep\",\"Leyla\",\"Ahu\"])\n",
    "age = pd.Series([25,20,45,35,29,52])\n",
    "total_purchase = pd.Series([3000,5000,4500,10000,25500,60000])\n",
    "account_manager = pd.Series([1,1,0,1,0,1])\n",
    "years = pd.Series([5,3,10,15,2,20])\n",
    "num_sites = pd.Series([40,10,15,20,32,18])\n",
    "new_customers = pd.DataFrame({\n",
    "    \"names\":names,\n",
    "    \"age\":age,\n",
    "    \"total_purchase\":total_purchase,\n",
    "    \"account_manager\":account_manager,\n",
    "    \"years\":years,\n",
    "    \"num_sites\":num_sites})\n",
    "new_customers.columns"
   ]
  },
  {
   "cell_type": "code",
   "execution_count": 82,
   "id": "a1b698a1-28c5-45aa-b19a-27431fb5a29f",
   "metadata": {},
   "outputs": [
    {
     "data": {
      "text/html": [
       "<div>\n",
       "<style scoped>\n",
       "    .dataframe tbody tr th:only-of-type {\n",
       "        vertical-align: middle;\n",
       "    }\n",
       "\n",
       "    .dataframe tbody tr th {\n",
       "        vertical-align: top;\n",
       "    }\n",
       "\n",
       "    .dataframe thead th {\n",
       "        text-align: right;\n",
       "    }\n",
       "</style>\n",
       "<table border=\"1\" class=\"dataframe\">\n",
       "  <thead>\n",
       "    <tr style=\"text-align: right;\">\n",
       "      <th></th>\n",
       "      <th>names</th>\n",
       "      <th>age</th>\n",
       "      <th>total_purchase</th>\n",
       "      <th>account_manager</th>\n",
       "      <th>years</th>\n",
       "      <th>num_sites</th>\n",
       "    </tr>\n",
       "  </thead>\n",
       "  <tbody>\n",
       "    <tr>\n",
       "      <th>0</th>\n",
       "      <td>Ali</td>\n",
       "      <td>25</td>\n",
       "      <td>3000</td>\n",
       "      <td>1</td>\n",
       "      <td>5</td>\n",
       "      <td>40</td>\n",
       "    </tr>\n",
       "    <tr>\n",
       "      <th>1</th>\n",
       "      <td>Ahmet</td>\n",
       "      <td>20</td>\n",
       "      <td>5000</td>\n",
       "      <td>1</td>\n",
       "      <td>3</td>\n",
       "      <td>10</td>\n",
       "    </tr>\n",
       "    <tr>\n",
       "      <th>2</th>\n",
       "      <td>Muhammed</td>\n",
       "      <td>45</td>\n",
       "      <td>4500</td>\n",
       "      <td>0</td>\n",
       "      <td>10</td>\n",
       "      <td>15</td>\n",
       "    </tr>\n",
       "    <tr>\n",
       "      <th>3</th>\n",
       "      <td>Zeynep</td>\n",
       "      <td>35</td>\n",
       "      <td>10000</td>\n",
       "      <td>1</td>\n",
       "      <td>15</td>\n",
       "      <td>20</td>\n",
       "    </tr>\n",
       "    <tr>\n",
       "      <th>4</th>\n",
       "      <td>Leyla</td>\n",
       "      <td>29</td>\n",
       "      <td>25500</td>\n",
       "      <td>0</td>\n",
       "      <td>2</td>\n",
       "      <td>32</td>\n",
       "    </tr>\n",
       "    <tr>\n",
       "      <th>5</th>\n",
       "      <td>Ahu</td>\n",
       "      <td>52</td>\n",
       "      <td>60000</td>\n",
       "      <td>1</td>\n",
       "      <td>20</td>\n",
       "      <td>18</td>\n",
       "    </tr>\n",
       "  </tbody>\n",
       "</table>\n",
       "</div>"
      ],
      "text/plain": [
       "      names  age  total_purchase  account_manager  years  num_sites\n",
       "0       Ali   25            3000                1      5         40\n",
       "1     Ahmet   20            5000                1      3         10\n",
       "2  Muhammed   45            4500                0     10         15\n",
       "3    Zeynep   35           10000                1     15         20\n",
       "4     Leyla   29           25500                0      2         32\n",
       "5       Ahu   52           60000                1     20         18"
      ]
     },
     "execution_count": 82,
     "metadata": {},
     "output_type": "execute_result"
    }
   ],
   "source": [
    "new_customers"
   ]
  },
  {
   "cell_type": "code",
   "execution_count": 83,
   "id": "22cfd81d-3490-447f-ab82-2a1121e2c175",
   "metadata": {},
   "outputs": [],
   "source": [
    "new_sdf = spark.createDataFrame(new_customers)"
   ]
  },
  {
   "cell_type": "code",
   "execution_count": 84,
   "id": "e693b30b-38b5-4c95-aec4-d6369846ad6e",
   "metadata": {},
   "outputs": [
    {
     "name": "stdout",
     "output_type": "stream",
     "text": [
      "+--------+---+--------------+---------------+-----+---------+\n",
      "|   names|age|total_purchase|account_manager|years|num_sites|\n",
      "+--------+---+--------------+---------------+-----+---------+\n",
      "|     Ali| 25|          3000|              1|    5|       40|\n",
      "|   Ahmet| 20|          5000|              1|    3|       10|\n",
      "|Muhammed| 45|          4500|              0|   10|       15|\n",
      "|  Zeynep| 35|         10000|              1|   15|       20|\n",
      "|   Leyla| 29|         25500|              0|    2|       32|\n",
      "|     Ahu| 52|         60000|              1|   20|       18|\n",
      "+--------+---+--------------+---------------+-----+---------+\n",
      "\n"
     ]
    }
   ],
   "source": [
    "new_sdf.show()"
   ]
  },
  {
   "cell_type": "code",
   "execution_count": 85,
   "id": "5a4c5469-b06a-4a29-aa9a-9e6b7165e689",
   "metadata": {},
   "outputs": [],
   "source": [
    "# dependent variable\n",
    "dependent_variables = new_sdf.select([col for col in spark_df.columns if col not in [\"index\",\"names\",\"churn\",\"label\"]])\n",
    "va_df = VectorAssembler(inputCols=dependent_variables.columns, outputCol=\"features\").transform(new_sdf)"
   ]
  },
  {
   "cell_type": "code",
   "execution_count": 87,
   "id": "a25e32b1-8a5f-4334-9f86-617ee0a5b53c",
   "metadata": {},
   "outputs": [
    {
     "name": "stdout",
     "output_type": "stream",
     "text": [
      "+--------+---+--------------+---------------+-----+---------+--------------------+\n",
      "|   names|age|total_purchase|account_manager|years|num_sites|            features|\n",
      "+--------+---+--------------+---------------+-----+---------+--------------------+\n",
      "|     Ali| 25|          3000|              1|    5|       40|[25.0,3000.0,1.0,...|\n",
      "|   Ahmet| 20|          5000|              1|    3|       10|[20.0,5000.0,1.0,...|\n",
      "|Muhammed| 45|          4500|              0|   10|       15|[45.0,4500.0,0.0,...|\n",
      "|  Zeynep| 35|         10000|              1|   15|       20|[35.0,10000.0,1.0...|\n",
      "|   Leyla| 29|         25500|              0|    2|       32|[29.0,25500.0,0.0...|\n",
      "|     Ahu| 52|         60000|              1|   20|       18|[52.0,60000.0,1.0...|\n",
      "+--------+---+--------------+---------------+-----+---------+--------------------+\n",
      "\n"
     ]
    }
   ],
   "source": [
    "va_df.show()"
   ]
  },
  {
   "cell_type": "code",
   "execution_count": 88,
   "id": "bbe26dd9-8a4f-48ef-8194-627eb8bc3e9b",
   "metadata": {},
   "outputs": [
    {
     "name": "stdout",
     "output_type": "stream",
     "text": [
      "+--------+----------+\n",
      "|   names|prediction|\n",
      "+--------+----------+\n",
      "|     Ali|       1.0|\n",
      "|   Ahmet|       0.0|\n",
      "|Muhammed|       1.0|\n",
      "|  Zeynep|       1.0|\n",
      "|   Leyla|       0.0|\n",
      "|     Ahu|       1.0|\n",
      "+--------+----------+\n",
      "\n"
     ]
    }
   ],
   "source": [
    "results = cv_model.transform(va_df)\n",
    "results.select(\"names\",\"prediction\").show()"
   ]
  },
  {
   "cell_type": "code",
   "execution_count": 98,
   "id": "4e7371ba-bb89-44c2-8589-75410efd2f4b",
   "metadata": {},
   "outputs": [],
   "source": [
    "# save prediction results\n",
    "results.select(\"names\",\"prediction\").toPandas().to_csv(\"results.csv\")"
   ]
  }
 ],
 "metadata": {
  "kernelspec": {
   "display_name": "Python 3 (ipykernel)",
   "language": "python",
   "name": "python3"
  },
  "language_info": {
   "codemirror_mode": {
    "name": "ipython",
    "version": 3
   },
   "file_extension": ".py",
   "mimetype": "text/x-python",
   "name": "python",
   "nbconvert_exporter": "python",
   "pygments_lexer": "ipython3",
   "version": "3.9.12"
  }
 },
 "nbformat": 4,
 "nbformat_minor": 5
}
